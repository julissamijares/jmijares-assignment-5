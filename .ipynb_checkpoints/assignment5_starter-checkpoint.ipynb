{
 "cells": [
  {
   "cell_type": "code",
   "execution_count": 1,
   "metadata": {},
   "outputs": [],
   "source": [
    "import numpy as np\n",
    "import pandas as pd"
   ]
  },
  {
   "cell_type": "code",
   "execution_count": 11,
   "metadata": {},
   "outputs": [],
   "source": [
    "import numpy as np\n",
    "\n",
    "class KNN:\n",
    "    def __init__(self, k=3, distance_metric='euclidean', batch_size=500):\n",
    "        self.k = k\n",
    "        self.distance_metric = distance_metric\n",
    "        self.batch_size = batch_size  # Added batch_size for batch processing\n",
    "\n",
    "    def fit(self, X, y):\n",
    "        self.X_train = X\n",
    "        self.y_train = y\n",
    "\n",
    "    def predict(self, X):\n",
    "        n_samples = X.shape[0]\n",
    "        predictions = []\n",
    "\n",
    "        # Process in batches\n",
    "        for i in range(0, n_samples, self.batch_size):\n",
    "            X_batch = X[i:i + self.batch_size]  # Get batch of test data\n",
    "            distances = self.compute_distances(X_batch)  # Compute distances for the entire batch\n",
    "            k_nearest_indices = np.argsort(distances, axis=1)[:, :self.k]  # Get k nearest neighbors\n",
    "            k_nearest_labels = self.y_train[k_nearest_indices]  # Get labels of the k nearest neighbors\n",
    "\n",
    "            # Find the most common label in the k nearest neighbors for each test point\n",
    "            batch_predictions = [max(set(labels), key=labels.tolist().count) for labels in k_nearest_labels]\n",
    "            predictions.extend(batch_predictions)\n",
    "\n",
    "        return np.array(predictions)\n",
    "\n",
    "    def compute_distances(self, X_batch):\n",
    "        # Efficiently compute pairwise distances using vectorization\n",
    "        if self.distance_metric == 'euclidean':\n",
    "            # Broadcasting for efficient Euclidean distance computation\n",
    "            dists = np.sqrt(np.sum((X_batch[:, np.newaxis] - self.X_train) ** 2, axis=2))\n",
    "        elif self.distance_metric == 'manhattan':\n",
    "            # Broadcasting for efficient Manhattan distance computation\n",
    "            dists = np.sum(np.abs(X_batch[:, np.newaxis] - self.X_train), axis=2)\n",
    "        else:\n",
    "            raise ValueError(\"Invalid distance metric\")\n",
    "        return dists\n"
   ]
  },
  {
   "cell_type": "code",
   "execution_count": 3,
   "metadata": {},
   "outputs": [],
   "source": [
    "def preprocess_data(train_path, test_path):\n",
    "    train_data = pd.read_csv(train_path)\n",
    "    test_data = pd.read_csv(test_path)\n",
    "\n",
    "    # Handle missing values\n",
    "    numerical_features = ['CreditScore', 'Age', 'Tenure', 'Balance', 'NumOfProducts', 'EstimatedSalary']\n",
    "    categorical_features = ['Geography', 'Gender']\n",
    "\n",
    "    # Fill missing values for numerical features with the median\n",
    "    train_data[numerical_features] = train_data[numerical_features].fillna(train_data[numerical_features].median())\n",
    "    test_data[numerical_features] = test_data[numerical_features].fillna(test_data[numerical_features].median())\n",
    "\n",
    "    # Fill missing values for categorical features with the mode\n",
    "    train_data[categorical_features] = train_data[categorical_features].fillna(train_data[categorical_features].mode().iloc[0])\n",
    "    test_data[categorical_features] = test_data[categorical_features].fillna(test_data[categorical_features].mode().iloc[0])\n",
    "\n",
    "    # One-hot encode categorical features using get_dummies\n",
    "    train_data = pd.get_dummies(train_data, columns=categorical_features)\n",
    "    test_data = pd.get_dummies(test_data, columns=categorical_features)\n",
    "\n",
    "    # Align train and test data to have the same columns (add missing columns as needed)\n",
    "    test_data = test_data.reindex(columns=train_data.columns, fill_value=0)\n",
    "\n",
    "    # Drop unnecessary columns\n",
    "    X = train_data.drop(['CustomerId', 'Surname', 'Exited'], axis=1)\n",
    "    y = train_data['Exited']\n",
    "    X_test = test_data.drop(['CustomerId', 'Surname'], axis=1)\n",
    "\n",
    "    # Min-Max Scaling for numerical features\n",
    "    min_values = X[numerical_features].min() # Only use numerical features for min\n",
    "    max_values = X[numerical_features].max() # Only use numerical features for max\n",
    "    \n",
    "    X[numerical_features] = (X[numerical_features] - min_values) / (max_values - min_values) # Only scale numerical features\n",
    "    X_test[numerical_features] = (X_test[numerical_features] - min_values) / (max_values - min_values) # Only scale numerical features\n",
    "\n",
    "    return X.values, y.values, X_test.values"
   ]
  },
  {
   "cell_type": "code",
   "execution_count": 4,
   "metadata": {},
   "outputs": [],
   "source": [
    "# Define cross-validation function\n",
    "def cross_validate(X, y, knn, n_splits=5):\n",
    "    # TODO: Implement cross-validation\n",
    "    # Compute ROC AUC scores\n",
    "    n = len(X)\n",
    "    fold_size = n // n_splits\n",
    "    scores = []\n",
    "\n",
    "    for i in range(n_splits):\n",
    "        X_train = np.concatenate([X[:i * fold_size], X[(i + 1) * fold_size:]], axis=0)\n",
    "        y_train = np.concatenate([y[:i * fold_size], y[(i + 1) * fold_size:]], axis=0)\n",
    "        X_val = X[i * fold_size: (i + 1) * fold_size]\n",
    "        y_val = y[i * fold_size: (i + 1) * fold_size]\n",
    "\n",
    "        knn.fit(X_train, y_train)\n",
    "        predictions = knn.predict(X_val)\n",
    "\n",
    "        accuracy = np.mean(predictions == y_val)\n",
    "        scores.append(accuracy)\n",
    "\n",
    "    return scores"
   ]
  },
  {
   "cell_type": "code",
   "execution_count": 10,
   "metadata": {},
   "outputs": [
    {
     "ename": "KeyboardInterrupt",
     "evalue": "",
     "output_type": "error",
     "traceback": [
      "\u001b[1;31m---------------------------------------------------------------------------\u001b[0m",
      "\u001b[1;31mKeyboardInterrupt\u001b[0m                         Traceback (most recent call last)",
      "Input \u001b[1;32mIn [10]\u001b[0m, in \u001b[0;36m<cell line: 8>\u001b[1;34m()\u001b[0m\n\u001b[0;32m      5\u001b[0m knn \u001b[38;5;241m=\u001b[39m KNN(k\u001b[38;5;241m=\u001b[39m\u001b[38;5;241m5\u001b[39m, distance_metric\u001b[38;5;241m=\u001b[39m\u001b[38;5;124m'\u001b[39m\u001b[38;5;124meuclidean\u001b[39m\u001b[38;5;124m'\u001b[39m)\n\u001b[0;32m      7\u001b[0m \u001b[38;5;66;03m# Perform cross-validation\u001b[39;00m\n\u001b[1;32m----> 8\u001b[0m cv_scores \u001b[38;5;241m=\u001b[39m \u001b[43mcross_validate\u001b[49m\u001b[43m(\u001b[49m\u001b[43mX\u001b[49m\u001b[43m,\u001b[49m\u001b[43m \u001b[49m\u001b[43my\u001b[49m\u001b[43m,\u001b[49m\u001b[43m \u001b[49m\u001b[43mknn\u001b[49m\u001b[43m)\u001b[49m\n\u001b[0;32m     10\u001b[0m \u001b[38;5;28mprint\u001b[39m(\u001b[38;5;124m\"\u001b[39m\u001b[38;5;124mCross-validation scores:\u001b[39m\u001b[38;5;124m\"\u001b[39m, cv_scores)\n",
      "Input \u001b[1;32mIn [4]\u001b[0m, in \u001b[0;36mcross_validate\u001b[1;34m(X, y, knn, n_splits)\u001b[0m\n\u001b[0;32m     13\u001b[0m y_val \u001b[38;5;241m=\u001b[39m y[i \u001b[38;5;241m*\u001b[39m fold_size: (i \u001b[38;5;241m+\u001b[39m \u001b[38;5;241m1\u001b[39m) \u001b[38;5;241m*\u001b[39m fold_size]\n\u001b[0;32m     15\u001b[0m knn\u001b[38;5;241m.\u001b[39mfit(X_train, y_train)\n\u001b[1;32m---> 16\u001b[0m predictions \u001b[38;5;241m=\u001b[39m \u001b[43mknn\u001b[49m\u001b[38;5;241;43m.\u001b[39;49m\u001b[43mpredict\u001b[49m\u001b[43m(\u001b[49m\u001b[43mX_val\u001b[49m\u001b[43m)\u001b[49m\n\u001b[0;32m     18\u001b[0m accuracy \u001b[38;5;241m=\u001b[39m np\u001b[38;5;241m.\u001b[39mmean(predictions \u001b[38;5;241m==\u001b[39m y_val)\n\u001b[0;32m     19\u001b[0m scores\u001b[38;5;241m.\u001b[39mappend(accuracy)\n",
      "Input \u001b[1;32mIn [9]\u001b[0m, in \u001b[0;36mKNN.predict\u001b[1;34m(self, X)\u001b[0m\n\u001b[0;32m     15\u001b[0m \u001b[38;5;28;01mfor\u001b[39;00m i \u001b[38;5;129;01min\u001b[39;00m \u001b[38;5;28mrange\u001b[39m(\u001b[38;5;241m0\u001b[39m, n_samples, \u001b[38;5;28mself\u001b[39m\u001b[38;5;241m.\u001b[39mbatch_size):\n\u001b[0;32m     16\u001b[0m     X_batch \u001b[38;5;241m=\u001b[39m X[i:i \u001b[38;5;241m+\u001b[39m \u001b[38;5;28mself\u001b[39m\u001b[38;5;241m.\u001b[39mbatch_size]\n\u001b[1;32m---> 17\u001b[0m     batch_predictions \u001b[38;5;241m=\u001b[39m [\u001b[38;5;28mself\u001b[39m\u001b[38;5;241m.\u001b[39m_predict(x) \u001b[38;5;28;01mfor\u001b[39;00m x \u001b[38;5;129;01min\u001b[39;00m X_batch]\n\u001b[0;32m     18\u001b[0m     predictions\u001b[38;5;241m.\u001b[39mextend(batch_predictions)\n\u001b[0;32m     20\u001b[0m \u001b[38;5;28;01mreturn\u001b[39;00m np\u001b[38;5;241m.\u001b[39marray(predictions)\n",
      "Input \u001b[1;32mIn [9]\u001b[0m, in \u001b[0;36m<listcomp>\u001b[1;34m(.0)\u001b[0m\n\u001b[0;32m     15\u001b[0m \u001b[38;5;28;01mfor\u001b[39;00m i \u001b[38;5;129;01min\u001b[39;00m \u001b[38;5;28mrange\u001b[39m(\u001b[38;5;241m0\u001b[39m, n_samples, \u001b[38;5;28mself\u001b[39m\u001b[38;5;241m.\u001b[39mbatch_size):\n\u001b[0;32m     16\u001b[0m     X_batch \u001b[38;5;241m=\u001b[39m X[i:i \u001b[38;5;241m+\u001b[39m \u001b[38;5;28mself\u001b[39m\u001b[38;5;241m.\u001b[39mbatch_size]\n\u001b[1;32m---> 17\u001b[0m     batch_predictions \u001b[38;5;241m=\u001b[39m [\u001b[38;5;28;43mself\u001b[39;49m\u001b[38;5;241;43m.\u001b[39;49m\u001b[43m_predict\u001b[49m\u001b[43m(\u001b[49m\u001b[43mx\u001b[49m\u001b[43m)\u001b[49m \u001b[38;5;28;01mfor\u001b[39;00m x \u001b[38;5;129;01min\u001b[39;00m X_batch]\n\u001b[0;32m     18\u001b[0m     predictions\u001b[38;5;241m.\u001b[39mextend(batch_predictions)\n\u001b[0;32m     20\u001b[0m \u001b[38;5;28;01mreturn\u001b[39;00m np\u001b[38;5;241m.\u001b[39marray(predictions)\n",
      "Input \u001b[1;32mIn [9]\u001b[0m, in \u001b[0;36mKNN._predict\u001b[1;34m(self, x)\u001b[0m\n\u001b[0;32m     22\u001b[0m \u001b[38;5;28;01mdef\u001b[39;00m \u001b[38;5;21m_predict\u001b[39m(\u001b[38;5;28mself\u001b[39m, x):\n\u001b[1;32m---> 23\u001b[0m     distances \u001b[38;5;241m=\u001b[39m [\u001b[38;5;28mself\u001b[39m\u001b[38;5;241m.\u001b[39mcompute_distance(x, x_train) \u001b[38;5;28;01mfor\u001b[39;00m x_train \u001b[38;5;129;01min\u001b[39;00m \u001b[38;5;28mself\u001b[39m\u001b[38;5;241m.\u001b[39mX_train]\n\u001b[0;32m     24\u001b[0m     k_nearest_indices \u001b[38;5;241m=\u001b[39m np\u001b[38;5;241m.\u001b[39margsort(distances)[:\u001b[38;5;28mself\u001b[39m\u001b[38;5;241m.\u001b[39mk]\n\u001b[0;32m     25\u001b[0m     k_nearest_labels \u001b[38;5;241m=\u001b[39m [\u001b[38;5;28mself\u001b[39m\u001b[38;5;241m.\u001b[39my_train[i] \u001b[38;5;28;01mfor\u001b[39;00m i \u001b[38;5;129;01min\u001b[39;00m k_nearest_indices]\n",
      "Input \u001b[1;32mIn [9]\u001b[0m, in \u001b[0;36m<listcomp>\u001b[1;34m(.0)\u001b[0m\n\u001b[0;32m     22\u001b[0m \u001b[38;5;28;01mdef\u001b[39;00m \u001b[38;5;21m_predict\u001b[39m(\u001b[38;5;28mself\u001b[39m, x):\n\u001b[1;32m---> 23\u001b[0m     distances \u001b[38;5;241m=\u001b[39m [\u001b[38;5;28;43mself\u001b[39;49m\u001b[38;5;241;43m.\u001b[39;49m\u001b[43mcompute_distance\u001b[49m\u001b[43m(\u001b[49m\u001b[43mx\u001b[49m\u001b[43m,\u001b[49m\u001b[43m \u001b[49m\u001b[43mx_train\u001b[49m\u001b[43m)\u001b[49m \u001b[38;5;28;01mfor\u001b[39;00m x_train \u001b[38;5;129;01min\u001b[39;00m \u001b[38;5;28mself\u001b[39m\u001b[38;5;241m.\u001b[39mX_train]\n\u001b[0;32m     24\u001b[0m     k_nearest_indices \u001b[38;5;241m=\u001b[39m np\u001b[38;5;241m.\u001b[39margsort(distances)[:\u001b[38;5;28mself\u001b[39m\u001b[38;5;241m.\u001b[39mk]\n\u001b[0;32m     25\u001b[0m     k_nearest_labels \u001b[38;5;241m=\u001b[39m [\u001b[38;5;28mself\u001b[39m\u001b[38;5;241m.\u001b[39my_train[i] \u001b[38;5;28;01mfor\u001b[39;00m i \u001b[38;5;129;01min\u001b[39;00m k_nearest_indices]\n",
      "Input \u001b[1;32mIn [9]\u001b[0m, in \u001b[0;36mKNN.compute_distance\u001b[1;34m(self, X1, X2)\u001b[0m\n\u001b[0;32m     29\u001b[0m \u001b[38;5;28;01mdef\u001b[39;00m \u001b[38;5;21mcompute_distance\u001b[39m(\u001b[38;5;28mself\u001b[39m, X1, X2):\n\u001b[0;32m     30\u001b[0m     \u001b[38;5;28;01mif\u001b[39;00m \u001b[38;5;28mself\u001b[39m\u001b[38;5;241m.\u001b[39mdistance_metric \u001b[38;5;241m==\u001b[39m \u001b[38;5;124m'\u001b[39m\u001b[38;5;124meuclidean\u001b[39m\u001b[38;5;124m'\u001b[39m:\n\u001b[1;32m---> 31\u001b[0m         \u001b[38;5;28;01mreturn\u001b[39;00m np\u001b[38;5;241m.\u001b[39msqrt(\u001b[43mnp\u001b[49m\u001b[38;5;241;43m.\u001b[39;49m\u001b[43msum\u001b[49m\u001b[43m(\u001b[49m\u001b[43m(\u001b[49m\u001b[43mX1\u001b[49m\u001b[43m \u001b[49m\u001b[38;5;241;43m-\u001b[39;49m\u001b[43m \u001b[49m\u001b[43mX2\u001b[49m\u001b[43m)\u001b[49m\u001b[43m \u001b[49m\u001b[38;5;241;43m*\u001b[39;49m\u001b[38;5;241;43m*\u001b[39;49m\u001b[43m \u001b[49m\u001b[38;5;241;43m2\u001b[39;49m\u001b[43m)\u001b[49m)\n\u001b[0;32m     32\u001b[0m     \u001b[38;5;28;01melif\u001b[39;00m \u001b[38;5;28mself\u001b[39m\u001b[38;5;241m.\u001b[39mdistance_metric \u001b[38;5;241m==\u001b[39m \u001b[38;5;124m'\u001b[39m\u001b[38;5;124mmanhattan\u001b[39m\u001b[38;5;124m'\u001b[39m:\n\u001b[0;32m     33\u001b[0m         \u001b[38;5;28;01mreturn\u001b[39;00m np\u001b[38;5;241m.\u001b[39msum(np\u001b[38;5;241m.\u001b[39mabs(X1 \u001b[38;5;241m-\u001b[39m X2))\n",
      "File \u001b[1;32m<__array_function__ internals>:5\u001b[0m, in \u001b[0;36msum\u001b[1;34m(*args, **kwargs)\u001b[0m\n",
      "\u001b[1;31mKeyboardInterrupt\u001b[0m: "
     ]
    }
   ],
   "source": [
    "# Load and preprocess data\n",
    "X, y, X_test = preprocess_data(r'C:\\Users\\julis\\projects\\jmijares-assignment-5\\data\\train.csv', r'C:\\Users\\julis\\projects\\jmijares-assignment-5\\data\\test.csv')\n",
    "\n",
    "# Create and evaluate model\n",
    "knn = KNN(k=5, distance_metric='euclidean')\n",
    "\n",
    "# Perform cross-validation\n",
    "cv_scores = cross_validate(X, y, knn)\n",
    "\n",
    "print(\"Cross-validation scores:\", cv_scores)\n",
    "\n",
    "# TODO: Train on full dataset with optimal hyperparameters and make predictions on test set\n",
    "#knn = KNN(k=best_k, distance_metric='euclidean')\n",
    "#knn.fit(X, y)\n",
    "#test_predictions = knn.predict(X_test)\n",
    "\n",
    "# Save test predictions\n",
    "# pd.DataFrame({'id': pd.read_csv('/path/of/test.csv')['id'], 'Exited': test_predictions}).to_csv('submissions.csv', index=False)"
   ]
  },
  {
   "cell_type": "code",
   "execution_count": null,
   "metadata": {},
   "outputs": [],
   "source": [
    "# TODO: hyperparamters tuning\n",
    "k_values = [3, 5, 7, 9]\n",
    "best_k = 3\n",
    "best_score = 0\n",
    "\n",
    "for k in k_values:\n",
    "    knn = KNN(k=k, distance_metric='euclidean')\n",
    "    cv_scores = cross_validate(X, y, knn)\n",
    "    avg_score = np.mean(cv_scores)\n",
    "    if avg_score > best_score:\n",
    "        best_score = avg_score\n",
    "        best_k = k\n",
    "\n",
    "print(f\"Best k: {best_k}, Cross-validation score: {best_score}\")"
   ]
  },
  {
   "cell_type": "code",
   "execution_count": null,
   "metadata": {},
   "outputs": [],
   "source": [
    "from sklearn.metrics import accuracy_score, precision_score, recall_score, f1_score, roc_auc_score\n",
    "\n",
    "y_pred = knn.predict(X_val)\n",
    "print(\"Accuracy:\", accuracy_score(y_val, y_pred))\n",
    "print(\"Precision:\", precision_score(y_val, y_pred))\n",
    "print(\"Recall:\", recall_score(y_val, y_pred))\n",
    "print(\"F1 Score:\", f1_score(y_val, y_pred))\n",
    "print(\"ROC AUC:\", roc_auc_score(y_val, y_pred))"
   ]
  }
 ],
 "metadata": {
  "kernelspec": {
   "display_name": "Python 3 (ipykernel)",
   "language": "python",
   "name": "python3"
  },
  "language_info": {
   "codemirror_mode": {
    "name": "ipython",
    "version": 3
   },
   "file_extension": ".py",
   "mimetype": "text/x-python",
   "name": "python",
   "nbconvert_exporter": "python",
   "pygments_lexer": "ipython3",
   "version": "3.9.12"
  }
 },
 "nbformat": 4,
 "nbformat_minor": 2
}
